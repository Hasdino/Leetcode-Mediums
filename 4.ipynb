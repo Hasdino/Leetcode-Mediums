{
 "cells": [
  {
   "cell_type": "code",
   "execution_count": null,
   "source": [
    "class Solution:\n",
    "    def longestPalindrome(self, s: str) -> str:\n",
    "        n = len(s)\n",
    "        res = s[0]\n",
    "        for i in range(1, n):\n",
    "            \n",
    "            mid = i\n",
    "            left = i-1\n",
    "            while mid < n and left >=0 and s[mid] == s[left]:\n",
    "                mid += 1\n",
    "                left -= 1\n",
    "            res = max(res, s[left+1:mid], key=lambda x: len(x))\n",
    "            \n",
    "            left = i-1\n",
    "            right = i+1\n",
    "            while left >=0 and right < n and s[left] == s[right]:\n",
    "                left -= 1\n",
    "                right += 1\n",
    "            res = max(res, s[left+1:right], key=lambda x: len(x))\n",
    "        return res"
   ],
   "outputs": [],
   "metadata": {}
  },
  {
   "cell_type": "markdown",
   "source": [
    "success\n",
    "Details \n",
    "Runtime: 904 ms, faster than 85.93% of Python3 online submissions for Longest Palindromic Substring.\n",
    "Memory Usage: 14.4 MB, less than 38.56% of Python3 online submissions for Longest Palindromic Substring."
   ],
   "metadata": {}
  }
 ],
 "metadata": {
  "orig_nbformat": 4,
  "language_info": {
   "name": "python"
  }
 },
 "nbformat": 4,
 "nbformat_minor": 2
}