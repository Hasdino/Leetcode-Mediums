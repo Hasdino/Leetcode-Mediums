{
 "cells": [
  {
   "cell_type": "code",
   "execution_count": null,
   "source": [
    "class Solution:\n",
    "    def lengthOfLongestSubstring(self, s: str) -> int:\n",
    "        seen = {}\n",
    "        l = 0\n",
    "        output = 0\n",
    "        for r in range(len(s)):\n",
    "            \"\"\"\n",
    "            If s[r] not in seen, we can keep increasing the window size by moving right pointer\n",
    "            \"\"\"\n",
    "            if s[r] not in seen:\n",
    "                output = max(output,r-l+1)\n",
    "\n",
    "            else:\n",
    "                if seen[s[r]] < l:\n",
    "                    output = max(output,r-l+1)\n",
    "                else:\n",
    "                    l = seen[s[r]] + 1\n",
    "            seen[s[r]] = r\n",
    "        return output\n",
    "        "
   ],
   "outputs": [],
   "metadata": {}
  },
  {
   "cell_type": "markdown",
   "source": [
    "Success\n",
    "Details \n",
    "Runtime: 48 ms, faster than 96.16% of Python3 online submissions for Longest Substring Without Repeating Characters.\n",
    "Memory Usage: 14.1 MB, less than 93.62% of Python3 online submissions for Longest Substring Without Repeating Characters."
   ],
   "metadata": {}
  }
 ],
 "metadata": {
  "orig_nbformat": 4,
  "language_info": {
   "name": "python"
  }
 },
 "nbformat": 4,
 "nbformat_minor": 2
}